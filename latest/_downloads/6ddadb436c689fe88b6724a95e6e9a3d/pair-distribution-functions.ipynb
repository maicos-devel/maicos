{
  "cells": [
    {
      "cell_type": "markdown",
      "metadata": {},
      "source": [
        "\n# Pair distribution functions\n\n## Basic usage\n\nIn the following example, we will show how to calculate the two-dimensional planar\npair distribution functions.\n\nIn the following, we will give an example of a trajectory of water confined by graphene\nsheets simulated via GROMACS. We assume that the GROMACS topology is given by\n`graphene_water.tpr` and the trajectory is given by `graphene_water.xtc`. Both can be\ndownloaded under :download:`topology <graphene_water.tpr>` and\n:download:`trajectory <graphene_water.xtc>`, respectively.\n\nFrom these files you can create a MDAnalysis universe object.\n\nWe begin by importing the necessary modules.\n"
      ]
    },
    {
      "cell_type": "code",
      "execution_count": null,
      "metadata": {
        "collapsed": false
      },
      "outputs": [],
      "source": [
        "import matplotlib.pyplot as plt\nimport MDAnalysis as mda\nimport numpy as np\n\nimport maicos"
      ]
    },
    {
      "cell_type": "markdown",
      "metadata": {},
      "source": [
        "Next, we proceed with the creation of a MDAnalysis universe object, from\nwhich we further select the water molecules using the `resname` selector.\n\n"
      ]
    },
    {
      "cell_type": "code",
      "execution_count": null,
      "metadata": {
        "collapsed": false
      },
      "outputs": [],
      "source": [
        "u = mda.Universe(\"./graphene_water.tpr\", \"graphene_water.xtc\")"
      ]
    },
    {
      "cell_type": "markdown",
      "metadata": {},
      "source": [
        "This universe object can then be passed to :class:`maicos.modules.pdfplanar.PDFPlanar`\nanalysis object.\nIt expects you to pass the atom groups you want to perform the analysis for.\nIn our example, we have graphene walls and SPC/E water confined between them,\nwhere we are interested in the dielectric behavior of the fluid.\nThus, we will first select the water as an MDAnalysis atom group using\n:meth:`MDAnalysis.core.groups.AtomGroup.select_atoms`. In this case we select\nthe water by filtering for the residue named ``SOL``.\n\n"
      ]
    },
    {
      "cell_type": "code",
      "execution_count": null,
      "metadata": {
        "collapsed": false
      },
      "outputs": [],
      "source": [
        "water = u.select_atoms(\"resname SOL\")\n\nana_obj = maicos.PDFPlanar(\n    water,\n    water,\n    dzheight=0.25,\n    dim=2,\n    pdf_bin_width=0.2,\n    refgroup=water,\n    zmin=-5.0,\n    zmax=0,\n)"
      ]
    },
    {
      "cell_type": "markdown",
      "metadata": {},
      "source": [
        "Next, we can run the analysis over the trajectory.\nTo this end we call the member function\n:meth:`run <maicos.modules.pdfplanar.PDFPlanar.run>`.\nWe may set the ``verbose`` keyword to ``True`` to get additional information\nsuch a a progress bar.\n\nHere you also have the chance to set ``start`` and ``stop`` keywords to\nspecify which frames the analysis should start at and where to end.\nOne can also specify a ``step`` keyword to only analyze every ``step``\nframes.\n\n"
      ]
    },
    {
      "cell_type": "code",
      "execution_count": null,
      "metadata": {
        "collapsed": false
      },
      "outputs": [],
      "source": [
        "ana_obj.run(verbose=True, step=1)"
      ]
    },
    {
      "cell_type": "markdown",
      "metadata": {},
      "source": [
        "We also calculate the density profile of the water molecules in order to\ncompare the different slabs with the layering visible in the density.\n\n"
      ]
    },
    {
      "cell_type": "code",
      "execution_count": null,
      "metadata": {
        "collapsed": false
      },
      "outputs": [],
      "source": [
        "dana_obj = maicos.DensityPlanar(\n    water, dim=2, refgroup=water, bin_width=0.1, sym=True, zmin=-7, zmax=7\n)\n\ndana_obj.run(step=10)"
      ]
    },
    {
      "cell_type": "markdown",
      "metadata": {},
      "source": [
        "The results of the analysis are stored in the ``results`` member variable.\nAs per the documentation of ``PDFPlanar``, we get three different arrays:\n``bin_pos``, ``bins``, and ``pdf``.\nHere, ``bin_pos`` is the position of the center of the slices in the\nz-direction, ``bins`` contains the bin positions of the pair distribution,\nwhich are shared by all slices and correspondingly ``pdf`` contains each\nprofile that our code produced.\n\nIn the following, we loop over all the pdf slices and plot each of them.\nFurthermore, in a separate subplot, we also show the density profile of the\nwater molecules and highlight the slices that each pdf is calculated for.\nHence, the same color in both plots corresponds to the same slice for the\npair distribution function and the density profile.\n%%\n\n"
      ]
    },
    {
      "cell_type": "code",
      "execution_count": null,
      "metadata": {
        "collapsed": false
      },
      "outputs": [],
      "source": [
        "# u per cubic angstrom to kg per cubic meter factor\nu2kg = 1660.5390665999998\n\nfig, ax = plt.subplots(1, 2)\nprint(ax)\n\ntax = ax[1].twinx()\nshift = 0\nshift_amount = 2\nfor i in range(0, len(ana_obj.results.pdf[0])):\n    bin_pos = ana_obj.results.bin_pos[i]\n\n    pdf_prof = ana_obj.results.pdf[:, i]\n    mean_bulk = np.mean(pdf_prof[ana_obj.results.bins > 10])\n\n    line = ax[0].plot(\n        ana_obj.results.bins, ana_obj.results.pdf[:, i] / mean_bulk + shift\n    )\n    tax.vlines(\n        7 + bin_pos, 0, 3500, alpha=0.7, color=line[0].get_color(), linestyles=\"dashed\"\n    )\n\n    tax.axvspan(\n        7 + bin_pos - 0.25 * 2,\n        7 + bin_pos + 0.25 * 2,\n        color=line[0].get_color(),\n        alpha=0.3,\n    )\n    shift += shift_amount\n\nax[0].set_ylabel(r\"$g(r)$\")\nax[0].set_xlabel(r\"$r$ [$\\AA$]\")\nax[0].set_xlim((0, 15))\nax[0].hlines(1, 0, 15, color=\"black\", linestyles=\"dashed\", alpha=0.5)\n\ntax.plot(\n    7 + dana_obj.results.bin_pos,\n    dana_obj.results.profile * u2kg,\n    color=\"black\",\n    label=\"Density\",\n)\ntax.set_xlim((1, 7))\n\nax[1].set_yticks(tax.get_yticks())\n\nax[1].set_yticklabels([])\n\ntax.set_ylabel(r\"$\\rho(z)$ [kg/m$^3$]\")\nax[1].set_xlabel(r\"$z$ [$\\AA$]\")\n\n# Set the padding between the axis to zero\nplt.tight_layout()\n\nfig.subplots_adjust(wspace=0, hspace=0)\nfig.dpi = 200"
      ]
    }
  ],
  "metadata": {
    "kernelspec": {
      "display_name": "Python 3",
      "language": "python",
      "name": "python3"
    },
    "language_info": {
      "codemirror_mode": {
        "name": "ipython",
        "version": 3
      },
      "file_extension": ".py",
      "mimetype": "text/x-python",
      "name": "python",
      "nbconvert_exporter": "python",
      "pygments_lexer": "ipython3",
      "version": "3.13.5"
    }
  },
  "nbformat": 4,
  "nbformat_minor": 0
}