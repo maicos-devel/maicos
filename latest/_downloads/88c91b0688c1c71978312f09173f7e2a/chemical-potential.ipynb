{
  "cells": [
    {
      "cell_type": "markdown",
      "metadata": {},
      "source": [
        "\n# Ideal component of the chemical potential\n\n## What is the chemical potential?\n\nMolecular dynamics simulations are often performed with a constant number of particles.\nWhen modelling confined systems in molecular dynamics simulations, it is often assumed\nthat the confined geometry extends infinitely, while real systems have a finite size and\nare connected to a reservior many times larger than the confined space.\n\nIn this case, the number of particles in the system is not constant, but changes over\ntime. This can be seen as a system that is exchanging particles with a reservoir. The\nchemical potential describes how the free energy changes when particles are added to (or\nremoved from) the system. The chemical potential is therefore a very important quantity\nin molecular dynamics simulations of confined systems.\n\nIf you want to know more about what the chemical potential means you can take a look at\nthe references below :footcite:p:`UnderstandingChemicalPotential`.\n\n## How to calculate the ideal component of the chemical potential\n\nThe chemical potential can be split up into different parts\n\n\\begin{align}\\mu = \\mu^0 + \\mu^\\text{ideal} + \\mu^\\text{excess},\\end{align}\n\nwhere $\\mu^0$ represents the standard potential of the substance,\n$\\mu^\\text{ideal}$ represents the component of the potential that would also occur\nfor an ideal gas and $\\mu^\\text{excess}$ represents the excess contribution\ngenerated from the interactions between the particles. In the following calculations we\nare only interested in the ideal component.\n\nFor our case, we can calculate the ideal component of the potential according to\n\n\\begin{align}\\mu^\\text{ideal} = R T \\ln \\left( \\rho \\Lambda^3 \\right),\\end{align}\n\nwhere $\\Lambda = \\hbar \\sqrt{\\frac{2\\pi}{m \\cdot k_\\mathrm{B} \\cdot T}}$ is the\nthermal De-Broglie wavelength, i.e. the mean De-Broglie wavelength at temperature\n$T$. Furthermore, $m$ is the mass of the particles and $\\rho$ is the\nmean density of the system. The mean density can be calculated with MAICoS by using the\nDensity modules. We will exemplify this in the following example using the\n:class:`maicos.DensityPlanar` module.\n\nFirst we'll import every module we need.\n"
      ]
    },
    {
      "cell_type": "code",
      "execution_count": null,
      "metadata": {
        "collapsed": false
      },
      "outputs": [],
      "source": [
        "import MDAnalysis as mda\nimport numpy as np\nfrom scipy import constants as const\n\nimport maicos"
      ]
    },
    {
      "cell_type": "markdown",
      "metadata": {},
      "source": [
        "Now we define a function that calculates $\\mu$ according to the equation above.\nWe can calculate the Volume $V$ with MAICoS by calculating the mean density and\ndeviding it by the mass of the particles. Therefore our function takes the density as\ninput instead of the Volume.\n\n"
      ]
    },
    {
      "cell_type": "code",
      "execution_count": null,
      "metadata": {
        "collapsed": false
      },
      "outputs": [],
      "source": [
        "def mu(rho: np.ndarray, T: float, m: float) -> np.ndarray:\n    \"\"\"Calculate the chemical potential.\n\n    The chemical potential is calculated from the density: mu = R T log(rho. / m)\n    \"\"\"\n    # RT in KJ/mol\n    RT = T * const.Boltzmann * const.Avogadro / const.kilo\n\n    # De Broglie (converted to angstrom)\n    db = (\n        np.sqrt(const.h**2 / (2 * np.pi * m * const.atomic_mass * const.Boltzmann * T))\n        / const.angstrom\n    )\n\n    if np.all(rho > 0):\n        return RT * np.log(rho * db**3)\n    if np.any(rho == 0):\n        return np.float64(\"-inf\") * np.ones(rho.shape)\n    return np.float64(\"nan\") * np.ones(rho.shape)"
      ]
    },
    {
      "cell_type": "markdown",
      "metadata": {},
      "source": [
        "If you're also interested in the error of the chemical potential we can calculate it\nthrough propagation of uncertainty from the error of the density, calculated by\nMAICoS. The error propagates according to\n\n\\begin{align}\\Delta \\mu &= \\left| \\frac{\\partial \\mu}{\\partial \\rho} \\right| \\cdot\n              \\Delta \\rho \\\\\n              &= \\frac{RT}{\\rho} \\cdot \\Delta \\rho.\\end{align}\n\nThe implemented function looks like this.\n\n"
      ]
    },
    {
      "cell_type": "code",
      "execution_count": null,
      "metadata": {
        "collapsed": false
      },
      "outputs": [],
      "source": [
        "def dmu(rho: np.ndarray, drho: np.ndarray, T: float) -> np.ndarray:\n    \"\"\"Calculate the error of the chemical potential.\n\n    The error is calculated from the density using propagation of uncertainty.\n    \"\"\"\n    RT = T * const.Boltzmann * const.Avogadro / const.kilo\n\n    if np.all(rho > 0):\n        return RT * (drho / rho)\n    return np.float64(\"nan\") * np.ones(rho.shape)"
      ]
    },
    {
      "cell_type": "markdown",
      "metadata": {},
      "source": [
        "Finally, we can use those previously defined functions to calculate the chemical\npotential and its error for an example trajectory called `water`, whose data can be\ndownloaded from :download:`topology <water.tpr>` and :download:`trajectory\n<water.trr>`. To calculate the mean density we use the module\n:class:`maicos.DensityPlanar` of MAICoS. This example uses a temperature of $300\n\\: \\rm K$ and a mass of $18 \\: \\rm u$.\n\n"
      ]
    },
    {
      "cell_type": "code",
      "execution_count": null,
      "metadata": {
        "collapsed": false
      },
      "outputs": [],
      "source": [
        "water = mda.Universe(\"water.tpr\", \"water.trr\")\nana = maicos.DensityPlanar(water.atoms)\nana.run()\nprint(\"\u00b5_id =\", mu(ana.results.profile.mean(), 300, 18))\nprint(\"\u0394\u00b5_id =\", dmu(ana.results.profile.mean(), ana.results.dprofile.mean(), 300))"
      ]
    },
    {
      "cell_type": "markdown",
      "metadata": {},
      "source": [
        "## References\n.. footbibliography::\n\n"
      ]
    }
  ],
  "metadata": {
    "kernelspec": {
      "display_name": "Python 3",
      "language": "python",
      "name": "python3"
    },
    "language_info": {
      "codemirror_mode": {
        "name": "ipython",
        "version": 3
      },
      "file_extension": ".py",
      "mimetype": "text/x-python",
      "name": "python",
      "nbconvert_exporter": "python",
      "pygments_lexer": "ipython3",
      "version": "3.13.5"
    }
  },
  "nbformat": 4,
  "nbformat_minor": 0
}