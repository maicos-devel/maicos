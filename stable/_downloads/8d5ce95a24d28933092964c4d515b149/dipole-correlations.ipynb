{
  "cells": [
    {
      "cell_type": "markdown",
      "metadata": {},
      "source": [
        "\n# Calculating and interpreting dipolar pair correlation functions\n\nIn this examples we will calculate dipolar pair correlation functions in real and\nFourier space using the maicos modules :class:`maicos.RDFDiporder` and\n:class:`maicos.DiporderStructureFactor`. We will show how these pair correlation\nfunctions are connected to each other and electrostatic properties like the dielectric\nconstant $\\varepsilon$ and the Kirkwood factor $g_K$.\n\nWe start by importing the necessarary modules\n"
      ]
    },
    {
      "cell_type": "code",
      "execution_count": null,
      "metadata": {
        "collapsed": false
      },
      "outputs": [],
      "source": [
        "import matplotlib.pyplot as plt\nimport MDAnalysis as mda\nimport numpy as np\nimport scipy\nfrom MDAnalysis.analysis.dielectric import DielectricConstant\n\nimport maicos\nfrom maicos.lib.math import rdf_structure_factor"
      ]
    },
    {
      "cell_type": "markdown",
      "metadata": {},
      "source": [
        "Our example system is $N=512$ rigid SPC/E water molecules simulated in an NVT\nensemble at $300\\,\\mathrm{K}$ in a cubic cell of $L=24.635\\,\u00c5$. To follow\nthis how-to guide, you should download the :download:`topology <water_nvt.tpr>` and\nthe :download:`trajectory <water_nvt.xtc>` files of the system. Below we load the\nsystem, report and store some system properties for later usage.\n\n"
      ]
    },
    {
      "cell_type": "code",
      "execution_count": null,
      "metadata": {
        "collapsed": false
      },
      "outputs": [],
      "source": [
        "u = mda.Universe(\"water_nvt.tpr\", \"water_nvt.xtc\")\n\nvolume = u.trajectory.ts.volume\ndensity = u.residues.n_residues / volume\ndipole_moment = u.atoms.dipole_moment(compound=\"residues\", unwrap=True).mean()\n\nprint(f\"\u03c1_n = {density:.3f} \u00c5^-3\")\nprint(f\"\u00b5 = {dipole_moment:.2f} e\u00c5\")"
      ]
    },
    {
      "cell_type": "markdown",
      "metadata": {},
      "source": [
        "The results of our first property calculations show that the number density as well as\nthe dipole moment of a single water molecule is consistent with the literature\n:footcite:p:`vega_simulating_2011`.\n\n## Static dielectric constant\n\nTo start with the analysis we first look at the dielectric constant of the system. If\nyou run a simulation using an Ewald simulation technique as usually done, the\ndielectric constant for such system with metallic boundary conditions is given\naccording to :footcite:t:`neumann_dipole_1983` by\n\n\\begin{align}\\varepsilon = 1 + \\frac{\\langle M^2 \\rangle_\\mathrm{MBE} - \\langle\n    M \\rangle_\\mathrm{MBE}^2}{3 \\varepsilon_0 V k_B T}\\end{align}\n\nwhere\n\n\\begin{align}\\boldsymbol M = \\sum_{i=1}^N \\boldsymbol \\mu_i\\end{align}\n\nis the total dipole moment of the box, $V$ its volume and $\\varepsilon_0$\nthe vacuum permittivity. We use the subscript in the expectation value\n$\\mathrm{MBE}$ indicating that the equation only holds for simulations with\n**M**\\ etallic **B**\\ oundary conditions in an **E**\\ wald simulation style. As shown\nin the equation for $\\varepsilon(\\mathrm{MBE})$ the dielectric constant here is\na *total cell* quantity connecting the fluctuations of the total dipole moment to the\ndielectric constant. We can calculate $\\varepsilon_\\mathrm{MBE}$ using the\n:class:`MDAnalysis.analysis.dielectric.DielectricConstant` module of MDAnalysis.\n\n"
      ]
    },
    {
      "cell_type": "code",
      "execution_count": null,
      "metadata": {
        "collapsed": false
      },
      "outputs": [],
      "source": [
        "epsilon_mbe = DielectricConstant(atomgroup=u.atoms).run()\nprint(f\"\u025b_MBE = {epsilon_mbe.results.eps_mean:.2f}\")"
      ]
    },
    {
      "cell_type": "markdown",
      "metadata": {},
      "source": [
        "The value of 70 is the same as reported in the literature for the\nrigid SPC/E water model :footcite:p:`vega_simulating_2011`.\n\n## Kirkwood factor\n\nKnowing the dielectric constant we can also calculate the Kirkwood factor $g_K$\nwhich is a measure describing molecular correlations. I.e a Kirkwood factor greater\nthan 1 indicates that neighboring molecular dipoles are more likely to align in the\nsame direction, enhancing the material's polarization and, consequently, its\ndielectric constant. Based on the dielectric constant $\\varepsilon$ Kirkwood and\nFr\u00f6hlich derived the relation for the factor $g_K$ according to\n\n\\begin{align}\\frac{ N \\mu^2 g_K}{\\varepsilon_0 V k_B T} = \\frac{(\\varepsilon -\n    1)(2\\varepsilon + 1)}{\\varepsilon}\\end{align}\n\nThis relation is valid for a sample in an infinity, homogenous medium of the same\ndielectric constant. Below we implement this equation and calculate the factor for our\nsystem.\n\n"
      ]
    },
    {
      "cell_type": "code",
      "execution_count": null,
      "metadata": {
        "collapsed": false
      },
      "outputs": [],
      "source": [
        "def kirkwood_factor_KF(\n    dielectric_constant: float,\n    volume: float,\n    n_dipoles: float,\n    molecular_dipole_moment: float,\n    temperature: float = 300,\n) -> float:\n    \"\"\"Kirkwood factor in the Kirkwood-Fr\u00f6hlich way.\n\n    For the sample in an infinity, homogenous medium of the same dielectric constant.\n\n    Parameters\n    ----------\n    dielectric_constant : float\n        the static dielectric constant \u025b\n    volume : float\n        system volume in \u00c5^3\n    n_dipoles : float\n        number of dipoles\n    molecular_dipole_moment : float\n        dipole moment of a molecule (e\u00c5)\n    temperature : float\n        temperature of the simulation K\n\n    \"\"\"\n    dipole_moment_sq = (\n        molecular_dipole_moment\n        * scipy.constants.elementary_charge\n        * scipy.constants.angstrom\n    ) ** 2\n    factor = (\n        scipy.constants.epsilon_0\n        * (volume * scipy.constants.angstrom**3)\n        * scipy.constants.Boltzmann\n        * temperature\n    )\n\n    return (\n        factor\n        / (dielectric_constant * n_dipoles * dipole_moment_sq)\n        * (dielectric_constant - 1)\n        * (2 * dielectric_constant + 1)\n    )\n\n\nkirkwood_KF = kirkwood_factor_KF(\n    dielectric_constant=epsilon_mbe.results.eps_mean,\n    volume=volume,\n    n_dipoles=u.residues.n_residues,\n    molecular_dipole_moment=dipole_moment,\n)\n\nprint(f\"g_K = {kirkwood_KF:.2f}\")"
      ]
    },
    {
      "cell_type": "markdown",
      "metadata": {},
      "source": [
        "This value means there is a quite strong correlation between neighboring water\nmolecules. The dielectric constant $\\varepsilon$ is a material property and does\nnot depend on the boundary condition. Instead, the Kirkwood factor is indicative of\ndipole-dipole correlations which instead depend on the boundary condistions in the\nsimulation. This relation is described and shown below.\n\n## Connecting the Kirkwood factor to real space dipolar pair-correlation functions\n\nThe $r$-dependent Kirkwood factor can also be calculated from real space\ndipole-dipole pair correlation function :footcite:p:`zhang_dipolar_2014`\n\n\\begin{align}g_\\mathrm{\\hat{\\boldsymbol{\\mu}}, \\hat{\\boldsymbol{\\mu}}}(r) = \\frac{1}{N}\n    \\left\\langle \\sum_i \\frac{1}{n_i(r)} \\sum_{j=1}^{n_i(r)} (\\hat{\\boldsymbol{\\mu}}_i\n    \\cdot \\hat{\\boldsymbol{\\mu}}_j) \\right \\rangle\\end{align}\n\nwhere $\\hat{\\boldsymbol{\\mu}}$ is the normalized dipole moment and\n$n_i(r)$ is the number of dipoles within a spherical shell of distance $r$\nand $r + \\delta r$ from dipole $i$. We compute the pair correlation\nfunction using the :class:`maicos.RDFDiporder` module up to half of the length of\ncubic simulation box. We drop a delta like contribution in $r=0$ caused by\ninteraction of the dipole with itself.\n\n"
      ]
    },
    {
      "cell_type": "code",
      "execution_count": null,
      "metadata": {
        "collapsed": false
      },
      "outputs": [],
      "source": [
        "L_half = u.dimensions[:3].max() / 2\n\nrdf_diporder = maicos.RDFDiporder(g1=u.atoms, rmax=L_half, bin_width=0.01)\nrdf_diporder.run()"
      ]
    },
    {
      "cell_type": "markdown",
      "metadata": {},
      "source": [
        "Based on this correlation function we can calculate the radially resolved Kirkwood\nfactor via :footcite:p:`zhang_computing_2016`\n\n\\begin{align}G_K(r) = \\rho_n 4 \\pi \\int_0^r \\mathrm{d}r^\\prime {r^\\prime}^2\n    g_\\mathrm{\\hat \\mu, \\hat \\mu}(r^\\prime) + 1\\end{align}\n\nwhere the \"$+ 1$\" accounts for the integration of the delta function at\n$r=0$. Here $\\rho_n = N/V$ is the density of dipoles.\n\n"
      ]
    },
    {
      "cell_type": "code",
      "execution_count": null,
      "metadata": {
        "collapsed": false
      },
      "outputs": [],
      "source": [
        "radial_kirkwood = 1 + (\n    density\n    * 4\n    * np.pi\n    * scipy.integrate.cumulative_trapezoid(\n        x=rdf_diporder.results.bins,\n        y=rdf_diporder.results.bins**2 * rdf_diporder.results.rdf,\n        initial=0,\n    )\n)"
      ]
    },
    {
      "cell_type": "markdown",
      "metadata": {},
      "source": [
        "While, for a truly infinite system, the $r$- dependent Kirkwood factor,\n$G_\\mathrm{K}(r)$ is short range :footcite:p:`frohlich_theory_1958`\n:footcite:p:`zhang_computing_2016`, the boundary conditions on a finite system\nintroduce long-range effects. In particular, within MBE,\n:footcite:t:`caillol_asymptotic_1992` has shown that $G_\\mathrm{K}(r)$ has a\nspurious asymptotic growth proportional to $r^3/V$. This effect is stil present\nat $r=r_K$, where $r_K$ (here approximately 6 \u00c5) indicates a distance\nafter which all the physical features of\n$g_\\mathrm{\\hat{\\boldsymbol{\\mu}},\\hat{\\boldsymbol{\\mu}}}(r)$ are extinct. For\nmore details see the original literature. Below we show the pair correlation function\nas well as the radial and the (static) Kirkwood factor as gray dashed line.\n\n"
      ]
    },
    {
      "cell_type": "code",
      "execution_count": null,
      "metadata": {
        "collapsed": false
      },
      "outputs": [],
      "source": [
        "fig, ax = plt.subplots(2)\n\nax[0].plot(\n    rdf_diporder.results.bins,\n    rdf_diporder.results.rdf,\n)\nax[1].axhline(kirkwood_KF, ls=\"--\", c=\"gray\", label=\"$g_K$ (KF)\")\n\nax[1].plot(rdf_diporder.results.bins, radial_kirkwood)\n\nax[0].set(\n    xlim=(2, 6),\n    ylim=(-0.2, 1.5),\n    ylabel=r\"$g_\\mathrm{\\hat{\\boldsymbol{\\mu}}, \\hat{\\boldsymbol{\\mu}}}(r)$\",\n)\n\nax[1].set(\n    xlim=(2, 10),\n    ylim=(0.95, 3.9),\n    xlabel=r\"$r\\,/\\,\\mathrm{\u00c5}$\",\n    ylabel=r\"$G_K(r)$\",\n)\n\nax[1].legend()\n\nfig.align_labels()\nfig.tight_layout()"
      ]
    },
    {
      "cell_type": "markdown",
      "metadata": {},
      "source": [
        "Notice that the Kirkwood Fr\u00f6hlich estimator for the Kirkwood factors differs from the\nvalue of $G_K(r=r_K)$ obtained from simulations in the MBE ensemble.\n\n## Dipole Structure factor\n\nAn alternative approach to calculate the dielectric constant is via the dipole\nstructure factor which is given by\n\n\\begin{align}S(q)_{\\hat{\\boldsymbol{\\mu}} \\hat{\\boldsymbol{\\mu}}} = \\left \\langle\n    \\frac{1}{N} \\sum_{i,j=1}^N \\hat \\mu_i \\hat \\mu_j \\, \\exp(-i\\boldsymbol q\\cdot\n    [\\boldsymbol r_i - \\boldsymbol r_j]) \\right \\rangle\\end{align}\n\nWe compute the structure factor using the :class:`maicos.DiporderStructureFactor`\nmodule.\n\n"
      ]
    },
    {
      "cell_type": "code",
      "execution_count": null,
      "metadata": {
        "collapsed": false
      },
      "outputs": [],
      "source": [
        "diporder_structure_factors = maicos.DiporderStructureFactor(atomgroup=u.atoms, dq=0.05)\ndiporder_structure_factors.run()"
      ]
    },
    {
      "cell_type": "markdown",
      "metadata": {},
      "source": [
        "As also shown `how to on SAXS calculations <howto-saxs>` the structure factor can\nalso be obtained directly from the real space correlation functions using Fourier\ntransformation via\n\n\\begin{align}S_{\\hat{\\boldsymbol{\\mu}} \\hat{\\boldsymbol{\\mu}}}^\\mathrm{FT}(q) = 1 + 4 \\pi\n    \\rho \\int_0^\\infty \\mathrm{d}r r \\frac{\\sin(qr)}{q} g_{\\hat \\mu\\hat \\mu}(r)\\,,\\end{align}\n\nwhich can be obtained by the function\n:func:`maicos.lib.math.rdf_structure_factor`. We have assumed an isotropic\nsystem so that $S(\\boldsymbol q) = S(q)$. Note that we added a one to the dipole\npair correlation function due to the implementation of the Fourier transformation\ninside :func:`maicos.lib.math.rdf_structure_factor`.\n\n"
      ]
    },
    {
      "cell_type": "code",
      "execution_count": null,
      "metadata": {
        "collapsed": false
      },
      "outputs": [],
      "source": [
        "q_rdf, struct_fac_rdf = rdf_structure_factor(\n    rdf=1 + rdf_diporder.results.rdf, r=rdf_diporder.results.bins, density=density\n)"
      ]
    },
    {
      "cell_type": "markdown",
      "metadata": {},
      "source": [
        "Before we plot the structure factors we first also fit the low $q$ limit\naccording to a quadratic function as\n\n\\begin{align}S_\\mathrm{\\hat \\mu\\hat \\mu}(q\\rightarrow0) \\approx S_0 + S_2q^2\\end{align}\n\nThe fit contains no linear term because of the structure factors' symmetry around 0.\n\n"
      ]
    },
    {
      "cell_type": "code",
      "execution_count": null,
      "metadata": {
        "collapsed": false
      },
      "outputs": [],
      "source": [
        "n_max = 5  # take `n_max` first data points of the structure factor for the fit\n\n# q_max is the maximal q value corresponding to the last point taken for the fit\nq_max = diporder_structure_factors.results.scattering_vectors[n_max]\nprint(f\"q_max = {q_max:.2f} \u00c5\")\n\neps_fit = np.polynomial.Polynomial.fit(\n    x=diporder_structure_factors.results.scattering_vectors[:n_max],\n    y=diporder_structure_factors.results.structure_factors[:n_max],\n    deg=(0, 2),\n    domain=(-q_max, q_max),\n)\n\nprint(\n    f\"Best fit parameters: S_0 = {eps_fit.coef[0]:.2f}, S_2 = {eps_fit.coef[2]:.2f} \u00c5^2\"\n)"
      ]
    },
    {
      "cell_type": "markdown",
      "metadata": {},
      "source": [
        "Now we can finally plot the structure factor\n\n"
      ]
    },
    {
      "cell_type": "code",
      "execution_count": null,
      "metadata": {
        "collapsed": false
      },
      "outputs": [],
      "source": [
        "plt.plot(\n    diporder_structure_factors.results.scattering_vectors,\n    diporder_structure_factors.results.structure_factors,\n    label=r\"$S_{\\hat \\mu\\hat \\mu}$\",\n)\nplt.plot(\n    q_rdf, struct_fac_rdf, ls=\"dashed\", label=r\"$S_{\\hat \\mu\\hat \\mu}^\\mathrm{FT}$\"\n)\nplt.plot(*eps_fit.linspace(50), ls=\"dotted\", label=r\"$S_0 + S_2 q^2$\")\n\nplt.axhline(1, ls=\":\", c=\"gray\")\nplt.ylabel(r\"$S_\\mathrm{\\hat\\mu \\hat\\mu}(q)$\")\nplt.xlabel(r\"q / $\u00c5^{-1}$\")\nplt.tight_layout()\nplt.xlim(0, 5)\nplt.legend()\nplt.show()"
      ]
    },
    {
      "cell_type": "markdown",
      "metadata": {},
      "source": [
        "You see that the orange and the blue curve agree. We also add the fit as a green\ndotted line. From $S_0$ we can extract the dielectric constant via\n:footcite:p:`hansen_theory_2006`\n\n\\begin{align}\\frac{\\mu^2}{\\varepsilon_0} S_0 =\n    \\frac{(\\varepsilon - 1)(2 \\varepsilon + 1)}{\\varepsilon}\\end{align}\n\nThis formula can be inverted and an estimator for $\\varepsilon_S$ can be\nobtained as we show below.\n\n"
      ]
    },
    {
      "cell_type": "code",
      "execution_count": null,
      "metadata": {
        "collapsed": false
      },
      "outputs": [],
      "source": [
        "def dielectric_constant_struc_fact(S_0: float, molecular_dipole_moment: float) -> float:\n    \"\"\"The dielectric constant calculated from the q->0 limit of the structure factor.\n\n    Parameters\n    ----------\n    q_0_limit : float\n        the q -> 0 limit if the dipololar structure factor\n    molecular_dipole_moment : float\n        dipole moment of a molecule (e\u00c5)\n\n    \"\"\"\n    dipole_moment_sq = (\n        molecular_dipole_moment\n        * scipy.constants.angstrom\n        * scipy.constants.elementary_charge\n    ) ** 2\n\n    S_limit = (\n        dipole_moment_sq\n        * S_0\n        / scipy.constants.epsilon_0\n        / scipy.constants.elementary_charge\n        / scipy.constants.angstrom**3\n    )\n\n    return (np.sqrt((S_limit) ** 2 + 2 * S_limit + 9) + S_limit + 1) / 4\n\n\nepsilon_struct_fac = dielectric_constant_struc_fact(\n    S_0=eps_fit.coef[0], molecular_dipole_moment=dipole_moment\n)\nprint(f\"\u025b_S = {epsilon_struct_fac:.2f}\")"
      ]
    },
    {
      "cell_type": "markdown",
      "metadata": {},
      "source": [
        "Which is quite close the value calculated directly from the total dipole fluctuations\nof the simulations $\\varepsilon_\\mathrm{MBE}\\approx69$. This difference may\nresult in the very crude fit that is performed and it could be drastically improved by\na Bayesian fitting method as for example for fitting the Seebeck coefficient from a\nsimilar structure factor :footcite:p:`drigo_seebeck_2023`.\n\n## References\n.. footbibliography::\n\n"
      ]
    }
  ],
  "metadata": {
    "kernelspec": {
      "display_name": "Python 3",
      "language": "python",
      "name": "python3"
    },
    "language_info": {
      "codemirror_mode": {
        "name": "ipython",
        "version": 3
      },
      "file_extension": ".py",
      "mimetype": "text/x-python",
      "name": "python",
      "nbconvert_exporter": "python",
      "pygments_lexer": "ipython3",
      "version": "3.13.5"
    }
  },
  "nbformat": 4,
  "nbformat_minor": 0
}