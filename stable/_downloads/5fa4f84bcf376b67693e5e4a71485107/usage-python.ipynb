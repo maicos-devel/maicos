{
  "cells": [
    {
      "cell_type": "markdown",
      "metadata": {},
      "source": [
        "\n# Usage - Python interpreter\n\nTo follow this tutorial, it is assumed that MAICoS has been `installed\n<label_installation>` on your computer.\n\nMAICoS heavily depends on the `MDAnalysis`_ infrastructure for trajectory loading and\natom selection. Here we will only cover a small aspects of the capabilities of\n`MDAnalysis`_. If you want to learn more about the library, take a look at their\n[documentation](https://docs.mdanalysis.org/stable/index.html).\n\n\nOnly three MAICoS analysis modules are used in this tutorial\n:class:`maicos.DensityPlanar`, :class:`maicos.VelocityPlanar` and\n:class:`maicos.DiporderPlanar` but all modules follow the same structure:\n\n1. load your simulation data into an :class:`MDAnalysis.core.universe.Universe`\n2. define analysis parameters like bin width or the direction of the analysis\n3. after the analysis was succesful, access all results in a\n   :class:`MDAnalysis.analysis.base.Results` of the analysis object.\n\nNote that some of the calculations may contain pitfall, such as dielectric profiles\ncalculation. Potential pitfalls and best practices are listed in the\n`userdoc-how-to` section.\n\nTo start, let us first import Matplotlib, MDAnalysis and MAICoS\n"
      ]
    },
    {
      "cell_type": "code",
      "execution_count": null,
      "metadata": {
        "collapsed": false
      },
      "outputs": [],
      "source": [
        "import logging\nimport sys\n\nimport matplotlib.pyplot as plt\nimport MDAnalysis as mda\n\nimport maicos"
      ]
    },
    {
      "cell_type": "markdown",
      "metadata": {},
      "source": [
        "## Load Simulation Data\n\nFor this tutorial we use a system consisting of a 2D slab with 1176 water molecules\nconfined in a 2D slit made of NaCl atoms, where the two water/solid interfaces are\nnormal to the axis $z$ as shown in the snapshot below:\n\n<img src=\"file://../../static/slit-flow-dark.png\" alt=\"Snapshot Slit Flow System\" class=\"only-dark\">\n\n<img src=\"file://../../static/slit-flow-light.png\" alt=\"Snapshot Slit Flow System\" class=\"only-light\">\n\nAn acceleration $a = 0.05\\,\\text{nm}\\,\\text{ps}^{-2}$ was applied to the water\nmolecules in the $\\boldsymbol{e}_x$ direction parallel to the NaCl wall, and the\natoms of the wall were maintained frozen along $\\boldsymbol{e}_x$.\n\nWe first create an :class:`MDAnalysis.core.universe.Universe` by loading a topology\nand trajectory from disk. You can download the :download:`topology <slit_flow.tpr>`\nand the :download:`trajectory <slit_flow.trr>` from our website.\n\n"
      ]
    },
    {
      "cell_type": "code",
      "execution_count": null,
      "metadata": {
        "collapsed": false
      },
      "outputs": [],
      "source": [
        "u = mda.Universe(\"slit_flow.tpr\", \"slit_flow.trr\")"
      ]
    },
    {
      "cell_type": "markdown",
      "metadata": {},
      "source": [
        "Let us print a few information about the trajectory:\n\n"
      ]
    },
    {
      "cell_type": "code",
      "execution_count": null,
      "metadata": {
        "collapsed": false
      },
      "outputs": [],
      "source": [
        "print(f\"Number of frames in the trajectory is {u.trajectory.n_frames}.\")\ntimestep = round(u.trajectory.dt, 2)\nprint(f\"Time interval between two frames is {timestep} ps.\")\ntotal_time = round(u.trajectory.totaltime, 2)\nprint(f\"Total simulation time is {total_time} ps.\")"
      ]
    },
    {
      "cell_type": "markdown",
      "metadata": {},
      "source": [
        "Now, we define four atom groups containing repectively:\n\n1. the oxygen and the hydrogen atoms (of the water molecules),\n2. the oxygen atoms (of the water molecules),\n3. the hydrogen atoms (of the water molecules),\n4. the Na and Cl atoms (of the wall):\n\n"
      ]
    },
    {
      "cell_type": "code",
      "execution_count": null,
      "metadata": {
        "collapsed": false
      },
      "outputs": [],
      "source": [
        "group_H2O = u.select_atoms(\"type OW HW\")\ngroup_O = u.select_atoms(\"type OW\")\ngroup_H = u.select_atoms(\"type HW\")\ngroup_NaCl = u.select_atoms(\"type SOD CLA\")"
      ]
    },
    {
      "cell_type": "markdown",
      "metadata": {},
      "source": [
        "Let us print a few information about the groups\n\n"
      ]
    },
    {
      "cell_type": "code",
      "execution_count": null,
      "metadata": {
        "collapsed": false
      },
      "outputs": [],
      "source": [
        "print(f\"Number of water molecules is {group_O.n_atoms}.\")\nprint(f\"Number of NaCl atoms is {group_NaCl.n_atoms}.\")"
      ]
    },
    {
      "cell_type": "markdown",
      "metadata": {},
      "source": [
        "## Density Profiles\n\nLet us use the :class:`maicos.DensityPlanar` class to extract the density profile of\nthe ``group_H2O`` along the (default) $z$ axis by running the analysis:\n\n"
      ]
    },
    {
      "cell_type": "code",
      "execution_count": null,
      "metadata": {
        "collapsed": false
      },
      "outputs": [],
      "source": [
        "dplan = maicos.DensityPlanar(group_H2O).run()"
      ]
    },
    {
      "cell_type": "markdown",
      "metadata": {},
      "source": [
        "The warning starting with *Unwrapping* is perfectly normal and can be ignored for now.\n\nLet us extract the bin coordinates $z$ and the averaged density profile from the\n``results`` attribute:\n\n"
      ]
    },
    {
      "cell_type": "code",
      "execution_count": null,
      "metadata": {
        "collapsed": false
      },
      "outputs": [],
      "source": [
        "zcoor = dplan.results.bin_pos\ndens = dplan.results.profile"
      ]
    },
    {
      "cell_type": "markdown",
      "metadata": {},
      "source": [
        "The density profile is given as a 1D array, let us look at the 10 first lines:\n\n"
      ]
    },
    {
      "cell_type": "code",
      "execution_count": null,
      "metadata": {
        "collapsed": false
      },
      "outputs": [],
      "source": [
        "print(dens[:10])"
      ]
    },
    {
      "cell_type": "markdown",
      "metadata": {},
      "source": [
        "By default the ``bin_width`` is 1 \u00c5, and the unit is atomic mass per $\u00c5^3$\n($\\text{u}/\\text{\u00c5}^3$).\n\nLet us plot the density profile using Matplotlib:\n\n"
      ]
    },
    {
      "cell_type": "code",
      "execution_count": null,
      "metadata": {
        "collapsed": false
      },
      "outputs": [],
      "source": [
        "fig, ax = plt.subplots()\n\nax.plot(zcoor, dens)\n\nax.set_xlabel(r\"z coordinate ($\\rm \u00c5$)\")\nax.set_ylabel(r\"density H2O ($\\rm u \\cdot \u00c5^{-3}$)\")\n\nfig.show()"
      ]
    },
    {
      "cell_type": "markdown",
      "metadata": {},
      "source": [
        "### Uncertainity estimates\n\nMAICoS estimates the uncertainity for each profile. This uncertainity is stored inside\nthe `dprofile` attribute.\n\n"
      ]
    },
    {
      "cell_type": "code",
      "execution_count": null,
      "metadata": {
        "collapsed": false
      },
      "outputs": [],
      "source": [
        "uncertainity = dplan.results.dprofile\n\n# Let us plot the results also showing the uncertainities\n\nfig, ax = plt.subplots()\n\nax.errorbar(zcoor, dens, 5 * uncertainity)\n\nax.set_xlabel(r\"z coordinate ($\\rm \u00c5$)\")\nax.set_ylabel(r\"density H2O ($\\rm u \\cdot \u00c5^{-3}$)\")\n\nfig.show()"
      ]
    },
    {
      "cell_type": "markdown",
      "metadata": {},
      "source": [
        "For this example we scale the error by 5 to be visible in the plot.\n\nThe uncertainity estimatation assumes that the trajectory data is uncorraleted. If the\ncorrelation time is too high or not reasonably computable a warning occurs that the\nuncertainity estimatation might be unreasonable.\n\n"
      ]
    },
    {
      "cell_type": "code",
      "execution_count": null,
      "metadata": {
        "collapsed": false
      },
      "outputs": [],
      "source": [
        "maicos.DensityPlanar(group_H2O).run(start=10, stop=13, step=1)"
      ]
    },
    {
      "cell_type": "markdown",
      "metadata": {},
      "source": [
        "### Improving the Results\n\nBy changing the value of the default parameters, one can improve the results, and\nperform more advanced operations.\n\nLet us increase the spatial resolution by reducing the ``bin_width``, and extract two\nprofiles instead of one:\n\n* one for the oxygen atoms of the water molecules,\n* one from the hydrogen atoms:\n\n"
      ]
    },
    {
      "cell_type": "code",
      "execution_count": null,
      "metadata": {
        "collapsed": false
      },
      "outputs": [],
      "source": [
        "dplan_smaller_bin = []\nfor ag in [group_O, group_H]:\n    dplan_smaller_bin.append(\n        maicos.DensityPlanar(ag, bin_width=0.5, unwrap=False).run()\n    )\n\n# TODO(@PicoCentauri): Intoduce AnalysisCollection here?\n\nzcoor_smaller_bin_O = dplan_smaller_bin[0].results.bin_pos\ndens_smaller_bin_O = dplan_smaller_bin[0].results.profile\n\nzcoor_smaller_bin_H = dplan_smaller_bin[0].results.bin_pos\ndens_smaller_bin_H = dplan_smaller_bin[0].results.profile"
      ]
    },
    {
      "cell_type": "markdown",
      "metadata": {},
      "source": [
        "Let us plot the results using two differents $y$-axis:\n\n"
      ]
    },
    {
      "cell_type": "code",
      "execution_count": null,
      "metadata": {
        "collapsed": false
      },
      "outputs": [],
      "source": [
        "fig, ax1 = plt.subplots()\n\nax1.plot(zcoor_smaller_bin_O, dens_smaller_bin_O, label=r\"Oxygen\")\nax1.plot(zcoor_smaller_bin_H, dens_smaller_bin_H * 8, label=r\"Hydrogen\")\n\nax1.set_xlabel(r\"z coordinate ($\u00c5$)\")\nax1.set_ylabel(r\"density O ($\\rm u \\cdot \u00c5^{-3}$)\")\n\nax2 = ax1.twinx()\nax2.set_ylabel(r\"density H ($\\rm u \\cdot \u00c5^{-3}$)\")\nax1.legend()\n\nfig.show()"
      ]
    },
    {
      "cell_type": "markdown",
      "metadata": {},
      "source": [
        "### Access to all the Module's Options\n\nFor each MAICoS module, they are several parameters similar to ``bin_width``. The\nparameter list and default options are listed in the `module's documentation\n<DielectricPlanar>`, and can be gathered by calling the help function of Python:\n\n"
      ]
    },
    {
      "cell_type": "code",
      "execution_count": null,
      "metadata": {
        "collapsed": false
      },
      "outputs": [],
      "source": [
        "help(maicos.DensityPlanar)"
      ]
    },
    {
      "cell_type": "markdown",
      "metadata": {},
      "source": [
        "Here we can see that for :class:`maicos.DensityPlanar`, there are several possible\noptions such as ``zmin``, ``zmax`` (the minimal and maximal coordinates to consider),\nor ``refgroup`` (to perform the binning with respect to the center of mass of a\ncertain group of atoms).\n\nKnowing this, let us re-calculate the density profile of $\\mathrm{H_2O}$, but\nthis time using the group ``group_H2O`` as a reference for the center of mass:\n\n"
      ]
    },
    {
      "cell_type": "code",
      "execution_count": null,
      "metadata": {
        "collapsed": false
      },
      "outputs": [],
      "source": [
        "dplan_centered_H2O = maicos.DensityPlanar(\n    group_H2O, bin_width=0.5, refgroup=group_H2O, unwrap=False\n)\ndplan_centered_H2O.run()\nzcoor_centered_H2O = dplan_centered_H2O.results.bin_pos\ndens_centered_H2O = dplan_centered_H2O.results.profile"
      ]
    },
    {
      "cell_type": "markdown",
      "metadata": {},
      "source": [
        "Let us also extract the density profile for the NaCl walls, but centered with respect\nto the center of mass of the $\\mathrm{H_2O}$ group:\n\n"
      ]
    },
    {
      "cell_type": "code",
      "execution_count": null,
      "metadata": {
        "collapsed": false
      },
      "outputs": [],
      "source": [
        "dplan_centered_NaCl = maicos.DensityPlanar(\n    group_NaCl, bin_width=0.5, refgroup=group_H2O, unwrap=False\n)\ndplan_centered_NaCl.run()\nzcoor_centered_NaCl = dplan_centered_NaCl.results.bin_pos\ndens_centered_NaCl = dplan_centered_NaCl.results.profile"
      ]
    },
    {
      "cell_type": "markdown",
      "metadata": {},
      "source": [
        "An plot the two profiles with different $y$-axis:\n\n"
      ]
    },
    {
      "cell_type": "code",
      "execution_count": null,
      "metadata": {
        "collapsed": false
      },
      "outputs": [],
      "source": [
        "fig, ax1 = plt.subplots()\n\nax1.plot(zcoor_centered_H2O, dens_centered_H2O, label=r\"$\\rm H_2O$\")\nax1.plot(zcoor_centered_NaCl, dens_centered_NaCl / 5, label=r\"$\\rm NaCl$\")\n\nax1.set_xlabel(r\"z coordinate ($\u00c5$)\")\nax1.set_ylabel(r\"density O ($\\rm u \\cdot \u00c5^{-3}$)\")\nax1.legend()\n\nax2 = ax1.twinx()\nax2.set_ylabel(r\"density NaCl ($\\rm u \\cdot \u00c5^{-3}$)\")\n\nfig.show()"
      ]
    },
    {
      "cell_type": "markdown",
      "metadata": {},
      "source": [
        "### Additional Options\n\nUse ``verbose=True`` to display extra informations and a progress bar:\n\n"
      ]
    },
    {
      "cell_type": "code",
      "execution_count": null,
      "metadata": {
        "collapsed": false
      },
      "outputs": [],
      "source": [
        "dplan_verbose = maicos.DensityPlanar(group_H2O)\ndplan_verbose.run(verbose=True)"
      ]
    },
    {
      "cell_type": "markdown",
      "metadata": {},
      "source": [
        "MAICoS uses Python's [standard logging library](https://docs.python.org/3/library/logging.html) to display additional informations\nduring the analysis of your trajectory. If you also want to show the `DEBUG` messages\nyou can configure the logger accordingly.\n\n"
      ]
    },
    {
      "cell_type": "code",
      "execution_count": null,
      "metadata": {
        "collapsed": false
      },
      "outputs": [],
      "source": [
        "logging.basicConfig(stream=sys.stdout, level=logging.DEBUG)\ndplan_verbose.run(verbose=True)\nlogging.disable(logging.WARNING)"
      ]
    },
    {
      "cell_type": "markdown",
      "metadata": {},
      "source": [
        "For additional options take a look at the [HOWTO](https://docs.python.org/3/howto/logging.html) for the logging library.\n\nTo analyse only a subpart of a trajectory file, for instance to analyse only frames 2,\n4, 6, 8, and 10, use the ``start``, ``stop``, and ``step`` keywords as follow:\n\n"
      ]
    },
    {
      "cell_type": "code",
      "execution_count": null,
      "metadata": {
        "collapsed": false
      },
      "outputs": [],
      "source": [
        "dplan = maicos.DensityPlanar(group_H2O).run(start=10, stop=20, step=2)"
      ]
    },
    {
      "cell_type": "markdown",
      "metadata": {},
      "source": [
        "## Velocity Profile\n\nHere we use the same trajectory file, but extract the velocity profile instead of the\ndensity profile. Do to so, the :class:`maicos.VelocityPlanar` is used.\n\nLet us call the velocity module:\n\n"
      ]
    },
    {
      "cell_type": "code",
      "execution_count": null,
      "metadata": {
        "collapsed": false
      },
      "outputs": [],
      "source": [
        "tplan = maicos.VelocityPlanar(group_H2O, bin_width=0.5, vdim=0, flux=False).run()\n\nzcoor = tplan.results.bin_pos\nvel = tplan.results.profile"
      ]
    },
    {
      "cell_type": "markdown",
      "metadata": {},
      "source": [
        "0`` option, but the binning is made along the default $z$ axis.\n\nAnd plot the velocity profile:\n\n"
      ]
    },
    {
      "cell_type": "code",
      "execution_count": null,
      "metadata": {
        "collapsed": false
      },
      "outputs": [],
      "source": [
        "fig, ax = plt.subplots()\n\nax.axhline(0, linestyle=\"dotted\", color=\"gray\")\nax.plot(zcoor, vel)\n\nax.set_xlabel(r\"z coordinate ($\u00c5$)\")\nax.set_ylabel(r\"velocity H2O ($\u00c5 ps^{-1}$)\")\n\nfig.show()"
      ]
    },
    {
      "cell_type": "markdown",
      "metadata": {},
      "source": [
        "=========================\n\nFinally, still using the same trajectory file, we extract the average orientation of\nthe water molecules.\n\nLet us call the :class:`maicos.DiporderPlanar` to extract the average orientation of\nthe water molecules:\n\n"
      ]
    },
    {
      "cell_type": "code",
      "execution_count": null,
      "metadata": {
        "collapsed": false
      },
      "outputs": [],
      "source": [
        "mydiporder = maicos.DiporderPlanar(\n    group_H2O, refgroup=group_H2O, order_parameter=\"cos_theta\"\n).run()"
      ]
    },
    {
      "cell_type": "markdown",
      "metadata": {},
      "source": [
        "Then, let us extract the cosinus of the angle of the molecules, $\\cos(\\theta)$:\n\n"
      ]
    },
    {
      "cell_type": "code",
      "execution_count": null,
      "metadata": {
        "collapsed": false
      },
      "outputs": [],
      "source": [
        "zcoor = mydiporder.results.bin_pos\ncos_theta = mydiporder.results.profile\n\nfig, ax = plt.subplots()\n\nax.axhline(0, linestyle=\"dotted\", color=\"gray\")\nax.plot(zcoor, cos_theta)\n\nax.set_xlabel(r\"z coordinate ($\u00c5$)\")\nax.set_ylabel(r\"$\\cos$($\\theta$)\")\n\nplt.show()"
      ]
    }
  ],
  "metadata": {
    "kernelspec": {
      "display_name": "Python 3",
      "language": "python",
      "name": "python3"
    },
    "language_info": {
      "codemirror_mode": {
        "name": "ipython",
        "version": 3
      },
      "file_extension": ".py",
      "mimetype": "text/x-python",
      "name": "python",
      "nbconvert_exporter": "python",
      "pygments_lexer": "ipython3",
      "version": "3.13.5"
    }
  },
  "nbformat": 4,
  "nbformat_minor": 0
}