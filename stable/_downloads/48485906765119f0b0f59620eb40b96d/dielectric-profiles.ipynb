{
  "cells": [
    {
      "cell_type": "markdown",
      "metadata": {},
      "source": [
        "\n# Dielectric profile calculation\n\n## Basic usage\n\nIn the following example, we will show how to calculate the dielectric profiles as\ndescribed in `dielectric-explanations`.\n\nBefore producing trajectories to calculate dielectric profiles, you will need to\nconsider which information you will need and thus need to print out. The dielectric\nprofile calculators need unwrapped positions and charges of **all** charged atoms in the\nsystem. Unwrapped refers to the fact that you will need either \"repaired\" molecules\n(which in GROMACS ``trjconv`` with the ``-pbc mol`` option can do for you) or you will\nneed to provide topology information for MAICoS to repair molecules for you during the\nanalysis. Note, however, that unwrapping adds overhead to your calculations. Therefore,\nit is recommended to use a repaired trajectory if possible.\n\nIn the following, we will give an example of a trajectory of water confined by graphene\nsheets simulated via GROMACS. We assume that the GROMACS topology is given by\n`graphene_water.tpr` and the trajectory is given by `graphene_water.xtc`. Both can be\ndownloaded under :download:`topology <graphene_water.tpr>` and :download:`trajectory\n<graphene_water.xtc>`, respectively.\n\nFrom these files you can create a MDAnalysis universe object.\n"
      ]
    },
    {
      "cell_type": "code",
      "execution_count": null,
      "metadata": {
        "collapsed": false
      },
      "outputs": [],
      "source": [
        "import matplotlib.pyplot as plt\nimport MDAnalysis as mda\nimport numpy as np\n\nimport maicos\n\nu = mda.Universe(\"graphene_water.tpr\", \"graphene_water.xtc\")"
      ]
    },
    {
      "cell_type": "markdown",
      "metadata": {},
      "source": [
        "This universe object can then be passed to the dielectric profile analysis object,\ndocumented in :class:`maicos.DielectricPlanar`. It expects\nyou to pass the atom groups you want to perform the analysis for. In our example, we\nhave graphene walls and SPC/E water confined between them, where we are interested in\nthe dielectric behavior of the fluid. Thus, we will first select the water as an\nMDAnalysis atom group using :meth:`MDAnalysis.core.groups.AtomGroup.select_atoms`. In\nthis case we select the water by filtering for the residue named ``SOL``.\n\nAccording to the discussion above, we use an unwrapped trajectory and set the ``unwrap\n= False`` keyword.\n\nThe simulation trajectory that we provide was simulated using Yeh-Berkowitz dipole\ncorrection. So we don't want to include dipole corrections, because we assume that our\nsimulation data adequately represents a 2d-periodic system. For systems that are not\n2d-periodic, one should set the ``is_3d`` argument to :obj:`True` to include the\ndipole correction (see `dielectric-explanations` or the section on boundary\nconditions down below).\n\nSince we included a large vacuum region in our simulation that is not of interest for\nthe dielectric profile, we can set the ``refgroup`` to the group containing our water\nmolecules. This will calculate the dielectric profile relative to the center of mass\nof the water in the region of interest.\n\n"
      ]
    },
    {
      "cell_type": "code",
      "execution_count": null,
      "metadata": {
        "collapsed": false
      },
      "outputs": [],
      "source": [
        "water = u.select_atoms(\"resname SOL\")\n# Create the analysis object with the appropriate parameters.\nanalysis_obj = maicos.DielectricPlanar(water, bin_width=0.1, refgroup=water)"
      ]
    },
    {
      "cell_type": "markdown",
      "metadata": {},
      "source": [
        "This creates the analysis object, but does not yet perform the analysis. To this end\nwe call the member function :meth:`run\n<maicos.DielectricPlanar.run>`. We may set the ``verbose``\nkeyword to :obj:`True` to get additional information like a progress bar.\n\nHere you also have the chance to set ``start`` and ``stop`` keywords to specify which\nframes the analysis should start at and where to end. One can also specify a ``step``\nkeyword to only analyze every ``step`` frames.\n\n"
      ]
    },
    {
      "cell_type": "code",
      "execution_count": null,
      "metadata": {
        "collapsed": false
      },
      "outputs": [],
      "source": [
        "analysis_obj.run(step=5)"
      ]
    },
    {
      "cell_type": "markdown",
      "metadata": {},
      "source": [
        "Here we use ``step = 5`` to run a fast analysis. You may reduce the ``step`` parameter\nto gain a higher accuracy. Note that the analysis issues a warning concerning the\ncorrelation time of the trajectory, which is automatically calculated as an indication\nof how far apart the frames should be chosen to get a statistically uncertainty\nindicator estimate. For small trajectories such as the one in this example, this\nestimate is not very reliable and one should perform the analysis for longer\ntrajectories for actual production runs.\n\nHence, we will ignore the warning for the purpose of this example. Now we are ready to\nplot the results. MAICoS provides the outcome of the calculation as sub-attributes of\nthe ``results`` attribute of the analysis object. The results object contains several\nattributes that can be accessed directly. For example, the bin positions are stored in\nthe ``bin_pos`` attribute, the parallel and perpendicular dielectric profiles in the\n``eps_par`` and ``eps_perp`` attributes respectively. (See\n:class:`maicos.DielectricPlanar` for a full list of\nattributes.)\n\nFor this example, we plot both profiles using matplotlib. Note that MAICoS always\ncenters the system at the origin or the selected refgroup, so here we set the limits\nof the x-axis to [-7, 7]. Then we can only show the relevant part of the output (the\nsystem has a width of 14 \u00c5).\n\n"
      ]
    },
    {
      "cell_type": "code",
      "execution_count": null,
      "metadata": {
        "collapsed": false
      },
      "outputs": [],
      "source": [
        "fig, ax = plt.subplots(2, sharex=True)\n\nz = analysis_obj.results.bin_pos\n\nax[0].plot(z, analysis_obj.results.eps_perp)\nax[1].plot(z, analysis_obj.results.eps_par)\n\nax[0].set_ylabel(r\"$\\varepsilon^{-1}_{\\perp} - 1$\")\nax[1].set_ylabel(r\"$\\varepsilon_{\\parallel} - 1$\")\n\nax[1].set_xlabel(r\"$z$\")\n\n# Only plot the actual physical system:\nax[0].set_xlim([-7, 7])\nax[1].set_xlim([-7, 7])\n\n# Also plot the bulk values for reference\nax[0].axhline(1 / 71 - 1, color=\"black\", linestyle=\"dashed\")\nax[1].axhline(71 - 1, color=\"black\", linestyle=\"dashed\")\n\nfig.tight_layout()\nplt.show()"
      ]
    },
    {
      "cell_type": "markdown",
      "metadata": {},
      "source": [
        "A few notes on the results: The perpendicular component is given as the inverse of the\ndielectric profile, which is the \"natural\" output (see `dielectric-explanations`\nfor more details). Furthermore, the bulk values expected for the SPC/E water model are\ngiven as reference lines.\n\nNotice that the parallel component is better converged than the perpendicular\ncomponent which in this very short trajectory is still noisy. For trajectories with a\nduration of about 1 microsecond, the perpendicular component can be expected to be\nconverged.\n\n## Boundary Conditions\n\n(See `dielectric-explanations` for a thorough discussion of the boundary\nconditions). Here we only note that the ``is_3d`` flag has to be chosen carefully,\ndepending on if one simulated a truly 3d periodic system or a 2d periodic one.\nSeldomly, vacuum boundary conditions might have been used for Ewald summations instead\nof the more common tin-foil boundary conditions. In this case, the ``vac`` flag should\nbe set to :obj:`True`.\n\n## TIP4P Water and Molecules with Virtual Sites\n\nOne has to be careful when using the dielectric profile analysis for systems with\nvirtual sites, such as TIP4P water. The reason is that the virtual sites might not be\nincluded in the trajectory, but instead are only constructed by the MD engine during\nthe force calculation. (For example some LAMMPS fixes)\n\nThis problem can be circumvented by creating the virtual sites by hand. This is done\nby creating a transformation function that is added to the universe. This function is\ncalled for every frame and can be used to create the virtual sites. The following\nexample shows how to do this for TIP4P/\u03b5 water from a LAMMPS trajectory. Here we only\nshift the oxygen charge along the H-O-H angle bisector by a distance of 0.105 \u00c5, which\nis the distance between the oxygen charge and the virtual site in the TIP4P/\u03b5 water\nmodel.\n\n"
      ]
    },
    {
      "cell_type": "code",
      "execution_count": null,
      "metadata": {
        "collapsed": false
      },
      "outputs": [],
      "source": [
        "def transform_lammps_tip4p(\n    oxygen_index_array: np.ndarray, distance: float\n) -> mda.coordinates.timestep.Timestep:\n    \"\"\"Creates a transformation function where for lammps tip4p molecukes.\n\n    oxygen_index_array is the array of indices where ``atom.type == oxygen_type``.\n    I.e. given by ``np.where(universe.atoms.types == oxygen_type)[0]``.\n\n    ``distance`` defines by how much the oxygen is moved in the H-O-H plane.\n    \"\"\"\n\n    def wrapped(timestep):\n        # shift oxygen charge in case of tip4p\n        this_pos = timestep.positions\n        for j in oxygen_index_array:\n            # -2 * vec_o + vec_h1 + vec_h2\n            vec = np.dot(np.array([-2, 1, 1]), this_pos[j : j + 3, :])\n            unit_vec = vec / np.linalg.norm(vec)\n            this_pos[j] += unit_vec * distance\n        return timestep\n\n    return wrapped\n\n\noxygen_index_array = u.select_atoms(\"type 2\").indices\n\nshift_tip4p_lammps = transform_lammps_tip4p(oxygen_index_array, 0.105)\n\nu.trajectory.add_transformations(shift_tip4p_lammps)"
      ]
    },
    {
      "cell_type": "markdown",
      "metadata": {},
      "source": [
        "## Preliminary Output\n\nAs the dielectric analysis is usually run for long trajectories, analysis can take a\nwhile. Hence, it is useful to get some preliminary output to see how the analysis is\nprogressing. Use the ``concfreq`` keyword to specify how often the analysis should\noutput the current results into data files on the disk. The ``concfreq`` keyword is\ngiven in units of frames. For example, if ``concfreq = 100``, the analysis will output\nthe current results to the data files every 100 frames.\n\n"
      ]
    }
  ],
  "metadata": {
    "kernelspec": {
      "display_name": "Python 3",
      "language": "python",
      "name": "python3"
    },
    "language_info": {
      "codemirror_mode": {
        "name": "ipython",
        "version": 3
      },
      "file_extension": ".py",
      "mimetype": "text/x-python",
      "name": "python",
      "nbconvert_exporter": "python",
      "pygments_lexer": "ipython3",
      "version": "3.13.5"
    }
  },
  "nbformat": 4,
  "nbformat_minor": 0
}