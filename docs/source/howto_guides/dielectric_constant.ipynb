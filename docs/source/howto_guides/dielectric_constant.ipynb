{
 "cells": [
  {
   "cell_type": "markdown",
   "metadata": {},
   "source": [
    "# Dielectric constant"
   ]
  },
  {
   "cell_type": "markdown",
   "metadata": {},
   "source": [
    "list prerequisite\n",
    "\n",
    "## Initialisation"
   ]
  },
  {
   "cell_type": "code",
   "execution_count": null,
   "metadata": {},
   "outputs": [],
   "source": [
    "#import warnings\n",
    "#warnings.filterwarnings(\"ignore\")"
   ]
  },
  {
   "cell_type": "markdown",
   "metadata": {},
   "source": [
    "and import MAICoS, NumPy, MDAnalysis, and PyPlot:"
   ]
  },
  {
   "cell_type": "code",
   "execution_count": null,
   "metadata": {},
   "outputs": [],
   "source": [
    "#import maicos\n",
    "#import numpy as np\n",
    "#import MDAnalysis as mda\n",
    "#import matplotlib.pyplot as plt\n",
    "#from matplotlib.ticker import AutoMinorLocator"
   ]
  },
  {
   "cell_type": "markdown",
   "metadata": {},
   "source": [
    "Let us set a few parameters for plotting purpose:"
   ]
  },
  {
   "cell_type": "code",
   "execution_count": null,
   "metadata": {},
   "outputs": [],
   "source": [
    "#fontsize = 25\n",
    "#font = {'family': 'sans', 'color':  'black', \n",
    "#        'weight': 'normal', 'size': fontsize}\n",
    "#my_color_1 = np.array([0.090, 0.247, 0.560])\n",
    "#my_color_2 = np.array([0.235, 0.682, 0.639])\n",
    "#my_color_3 = np.array([1.000, 0.509, 0.333])\n",
    "#my_color_4 = np.array([0.588, 0.588, 0.588])\n",
    "#plt.rcParams.update({\n",
    "#    \"text.usetex\": True,\n",
    "#    \"font.family\": \"serif\",\n",
    "#    \"font.serif\": [\"Palatino\"],\n",
    "#})"
   ]
  },
  {
   "cell_type": "markdown",
   "metadata": {},
   "source": [
    "Define the path to the XXX data folder of MAICoS (the path may be different,\n",
    "depending on where your jupyter notebook or python script is located):"
   ]
  },
  {
   "cell_type": "code",
   "execution_count": null,
   "metadata": {},
   "outputs": [],
   "source": [
    "#datapath = \"mypath\""
   ]
  },
  {
   "cell_type": "markdown",
   "metadata": {},
   "source": [
    "[Describe system here]\n",
    "\n",
    "[Insert image system here]"
   ]
  },
  {
   "cell_type": "markdown",
   "metadata": {},
   "source": [
    "## Create a MDAnalysis universe"
   ]
  },
  {
   "cell_type": "code",
   "execution_count": null,
   "metadata": {},
   "outputs": [],
   "source": [
    "#u = mda.Universe(datapath+'topol.tpr', \n",
    "#                 datapath+'traj.trr')\n",
    "#group_H2O = u.select_atoms('type OW HW')"
   ]
  },
  {
   "cell_type": "markdown",
   "metadata": {},
   "source": [
    "## Extract XXX using MAICoS"
   ]
  },
  {
   "cell_type": "markdown",
   "metadata": {},
   "source": [
    "By default the bin_width is 1 Å, the unit is atomic mass per Ångstrom$^3$ ($\\text{amu}/\\text{Å}^3$),\n",
    "and the axis is $z$. \n",
    "\n",
    "Plot the density profile using :"
   ]
  },
  {
   "cell_type": "code",
   "execution_count": null,
   "metadata": {},
   "outputs": [],
   "source": [
    "#fig = plt.figure(figsize=(13,6.5))\n",
    "#ax1 = plt.subplot(1, 1, 1)\n",
    "#plt.xlabel(r\"z coordinate (Å)\", fontdict=font)\n",
    "#plt.ylabel(r\"density H2O (amu / Å$^3$)]\", fontdict=font)\n",
    "#plt.xticks(fontsize=fontsize)\n",
    "#plt.yticks(fontsize=fontsize)\n",
    "#ax1.plot(X, Y, color=my_color_1, linewidth=4)\n",
    "#ax1.yaxis.offsetText.set_fontsize(20)\n",
    "#ax1.minorticks_on()\n",
    "#ax1.tick_params('both', length=10, width=2, which='major', direction='in')\n",
    "#ax1.tick_params('both', length=6, width=1.4, which='minor', direction='in')\n",
    "#ax1.xaxis.set_ticks_position('both')\n",
    "#ax1.yaxis.set_ticks_position('both')\n",
    "#ax1.spines[\"top\"].set_linewidth(2)\n",
    "#ax1.spines[\"bottom\"].set_linewidth(2)\n",
    "#ax1.spines[\"left\"].set_linewidth(2)\n",
    "#ax1.spines[\"right\"].set_linewidth(2)\n",
    "#ax1.yaxis.offsetText.set_fontsize(30)\n",
    "#minor_locator_y = AutoMinorLocator(2)\n",
    "#ax1.yaxis.set_minor_locator(minor_locator_y)\n",
    "#minor_locator_x = AutoMinorLocator(2)\n",
    "#ax1.xaxis.set_minor_locator(minor_locator_x)\n",
    "#ax1.tick_params(axis='x', pad=10)\n",
    "#plt.show()"
   ]
  }
 ],
 "metadata": {
  "kernelspec": {
   "display_name": "Python 3",
   "language": "python",
   "name": "python3"
  },
  "language_info": {
   "codemirror_mode": {
    "name": "ipython",
    "version": 3
   },
   "file_extension": ".py",
   "mimetype": "text/x-python",
   "name": "python",
   "nbconvert_exporter": "python",
   "pygments_lexer": "ipython3",
   "version": "3.8.10"
  },
  "widgets": {
   "application/vnd.jupyter.widget-state+json": {
    "state": {},
    "version_major": 2,
    "version_minor": 0
   }
  }
 },
 "nbformat": 4,
 "nbformat_minor": 4
}
