{
 "cells": [
  {
   "cell_type": "markdown",
   "metadata": {},
   "source": [
    "# Usage - command line"
   ]
  },
  {
   "cell_type": "markdown",
   "metadata": {},
   "source": [
    "MAICoS can be used directly from the command line (cli). Using cli instead of a Jupyter notebook\n",
    "can sometimes be more comfortable, particularly for lengthy analysis. The cli in particular is handy because it \n",
    "allows for updating the analysis results during the run. You can specify the number of frames \n",
    "after the output is updated with the ``-concfreq`` flag. See below for details.\n",
    "\n",
    "Note that in this documentation, we almost exclusively describe the use of MAICoS\n",
    "from the python interpreter, but all operations can be equivalently performed from the cli. "
   ]
  },
  {
   "cell_type": "markdown",
   "metadata": {},
   "source": [
    "Just like in this [more detailed tutorial](./usage_python.ipynb), the data\n",
    "test files `slit_flow` of MAICoS are needed, and\n",
    "can be downloaded by cloning MAICoS repository from Gitlab:\n",
    "\n",
    "```\n",
    "    git clone git@gitlab.com:maicos-devel/maicos.git\n",
    "```\n",
    "\n",
    "The `slit_flow` data files are located in `tests/data/slit_flow/`. \n",
    "\n",
    "\n",
    "In a terminal, type (without the exclamation point '!'):"
   ]
  },
  {
   "cell_type": "code",
   "execution_count": null,
   "metadata": {},
   "outputs": [],
   "source": [
    "!maicos densityplanar -s ../../../tests/data/slit_flow/topol.tpr \\\n",
    "     -f ../../../tests/data/slit_flow/traj.trr -atomgroup 'type OW HW'"
   ]
  },
  {
   "cell_type": "markdown",
   "metadata": {},
   "source": [
    "The density profile has been written in a file named ``density.dat`` in the \n",
    "current directory. The written file starts with the following lines:"
   ]
  },
  {
   "cell_type": "code",
   "execution_count": null,
   "metadata": {},
   "outputs": [],
   "source": [
    "!head -n 20 density.dat "
   ]
  },
  {
   "cell_type": "markdown",
   "metadata": {},
   "source": [
    "The water's mass density profile can then be plotted for example using \n",
    "[Gnuplot](http://www.gnuplot.info).\n",
    "We use following gnuplot commands stored inside a file called `gnuplot.gp`."
   ]
  },
  {
   "cell_type": "code",
   "execution_count": null,
   "metadata": {},
   "outputs": [],
   "source": [
    "!cat gnuplot.gp\n",
    "!gnuplot gnuplot.gp"
   ]
  },
  {
   "cell_type": "markdown",
   "metadata": {},
   "source": [
    "A similar plot can also created with\n",
    "[Grace](https://plasma-gate.weizmann.ac.il/Grace/) or other plotting programs."
   ]
  },
  {
   "cell_type": "markdown",
   "metadata": {},
   "source": [
    "For lengthy analysis, use the ``concfreq`` option to update the result during the run:"
   ]
  },
  {
   "cell_type": "code",
   "execution_count": null,
   "metadata": {},
   "outputs": [],
   "source": [
    "!maicos densityplanar -s ../../../tests/data/slit_flow/topol.tpr \\\n",
    "     -f ../../../tests/data/slit_flow/traj.trr -atomgroup 'type OW HW' \\\n",
    "     -concfreq '10'"
   ]
  },
  {
   "cell_type": "markdown",
   "metadata": {},
   "source": [
    "The general help of MAICoS can be accessed using:"
   ]
  },
  {
   "cell_type": "code",
   "execution_count": null,
   "metadata": {},
   "outputs": [],
   "source": [
    "!maicos -h"
   ]
  },
  {
   "cell_type": "markdown",
   "metadata": {},
   "source": [
    "Package-specific page can also be accessed from the cli:"
   ]
  },
  {
   "cell_type": "code",
   "execution_count": null,
   "metadata": {},
   "outputs": [],
   "source": [
    "!maicos densityplanar -h"
   ]
  }
 ],
 "metadata": {
  "kernelspec": {
   "display_name": "Python 3.10.6 64-bit",
   "language": "python",
   "name": "python3"
  },
  "language_info": {
   "codemirror_mode": {
    "name": "ipython",
    "version": 3
   },
   "file_extension": ".py",
   "mimetype": "text/x-python",
   "name": "python",
   "nbconvert_exporter": "python",
   "pygments_lexer": "ipython3",
   "version": "3.10.6"
  },
  "vscode": {
   "interpreter": {
    "hash": "b0fa6594d8f4cbf19f97940f81e996739fb7646882a419484c72d19e05852a7e"
   }
  },
  "widgets": {
   "application/vnd.jupyter.widget-state+json": {
    "state": {},
    "version_major": 2,
    "version_minor": 0
   }
  }
 },
 "nbformat": 4,
 "nbformat_minor": 4
}
